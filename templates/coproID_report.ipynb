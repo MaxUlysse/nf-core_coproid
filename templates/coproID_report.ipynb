{
 "cells": [
  {
   "cell_type": "markdown",
   "metadata": {},
   "source": [
    "# coproID report"
   ]
  },
  {
   "cell_type": "code",
   "execution_count": 13,
   "metadata": {
    "tags": [
     "remove_cell"
    ]
   },
   "outputs": [
    {
     "name": "stdout",
     "output_type": "stream",
     "text": [
      "Version 0.6.2\n",
      "Report generated on 2019-02-22 18:32:18.299401\n"
     ]
    }
   ],
   "source": [
    "import datetime\n",
    "with open(\"version.txt\", \"r\") as f:\n",
    "    for line in f:\n",
    "        print(f\"Version {line.rstrip()}\")\n",
    "print(f\"Report generated on {datetime.datetime.now()}\")"
   ]
  },
  {
   "cell_type": "markdown",
   "metadata": {},
   "source": [
    "## Introduction\n",
    "[coproID](https://github.com/maxibor/coproID) is a pipeline to identify the source of coprolites, and in general, of a metagenomic sample.\n",
    "\n",
    "If you read these lines, coproID successfully finished running and you can find your results below."
   ]
  },
  {
   "cell_type": "code",
   "execution_count": 50,
   "metadata": {
    "tags": [
     "remove_cell"
    ]
   },
   "outputs": [],
   "source": [
    "import numpy as np\n",
    "import pandas as pd\n",
    "import matplotlib.pyplot as plt\n",
    "import os\n",
    "from bokeh.plotting import figure, show, output_notebook\n",
    "from bokeh.models import ColumnDataSource\n",
    "from bokeh.transform import factor_cmap\n",
    "from bokeh.palettes import Set1\n",
    "from bokeh.models.tools import HoverTool\n",
    "from bokeh.layouts import widgetbox\n",
    "from bokeh.models.widgets import Button\n",
    "from bokeh.models.widgets import DataTable, DateFormatter, TableColumn\n",
    "from bokeh.models import CustomJS"
   ]
  },
  {
   "cell_type": "code",
   "execution_count": 6,
   "metadata": {
    "tags": [
     "remove_cell"
    ]
   },
   "outputs": [],
   "source": [
    "def plot_bokeh(df):\n",
    "    d = pd.read_csv(df, index_col = 0)\n",
    "    TOOLS=\"pan,wheel_zoom,zoom_in,zoom_out,box_zoom,reset,save\"\n",
    "    source = ColumnDataSource(d)\n",
    "    labels = list(set(source.data['label']))\n",
    "    color_map = factor_cmap(field_name='label', palette=Set1[9], factors=labels)\n",
    "    p = figure(tools=TOOLS)\n",
    "    p.scatter(x = 'PC1', y='PC2', color=color_map, alpha = 0.6, size = 6, source=d)\n",
    "    hover = HoverTool()\n",
    "    hover.tooltips = [(\"Organism\", \"@label\"),('Sample',\"@name\")]\n",
    "    p.add_tools(hover)\n",
    "    output_notebook(hide_banner=True)\n",
    "    show(p)"
   ]
  },
  {
   "cell_type": "code",
   "execution_count": 17,
   "metadata": {
    "tags": [
     "remove_cell"
    ]
   },
   "outputs": [],
   "source": [
    "def bokeh_table(df):\n",
    "    \n",
    "    d = pd.read_csv(df, index_col = 0)\n",
    "    source = ColumnDataSource(d)\n",
    "\n",
    "    Columns = [TableColumn(field=Ci, title=Ci) for Ci in d.columns] # bokeh columns\n",
    "    data_table = DataTable(columns=Columns, source=ColumnDataSource(d)) # bokeh table\n",
    "\n",
    "    button = Button(label=\"Download\", button_type=\"success\")\n",
    "\n",
    "    javaScript=\"\"\"\n",
    "        function table_to_csv(source) {\n",
    "        const columns = Object.keys(source.data)\n",
    "        const nrows = source.get_length()\n",
    "        const lines = [columns.join(',')]\n",
    "\n",
    "        for (let i = 0; i < nrows; i++) {\n",
    "            let row = [];\n",
    "            for (let j = 0; j < columns.length; j++) {\n",
    "                const column = columns[j]\n",
    "                row.push(source.data[column][i].toString())\n",
    "            }\n",
    "            lines.push(row.join(','))\n",
    "        }\n",
    "        return lines.join('\\\\n').concat('\\\\n')\n",
    "    }\n",
    "\n",
    "\n",
    "    const filename = 'coproID_result.csv'\n",
    "    filetext = table_to_csv(source)\n",
    "    const blob = new Blob([filetext], { type: 'text/csv;charset=utf-8;' })\n",
    "\n",
    "    //addresses IE\n",
    "    if (navigator.msSaveBlob) {\n",
    "        navigator.msSaveBlob(blob, filename)\n",
    "    } else {\n",
    "        const link = document.createElement('a')\n",
    "        link.href = URL.createObjectURL(blob)\n",
    "        link.download = filename\n",
    "        link.target = '_blank'\n",
    "        link.style.visibility = 'hidden'\n",
    "        link.dispatchEvent(new MouseEvent('click'))\n",
    "    }\n",
    "    \"\"\"\n",
    "    button.callback = CustomJS(args=dict(source=source),code=javaScript)\n",
    "    output_notebook(hide_banner=True)\n",
    "    show(button)"
   ]
  },
  {
   "cell_type": "code",
   "execution_count": 9,
   "metadata": {
    "tags": [
     "remove_cell"
    ]
   },
   "outputs": [],
   "source": [
    "umap = \"embedding.umap.csv\""
   ]
  },
  {
   "cell_type": "markdown",
   "metadata": {},
   "source": [
    "## 1- coproID summary table"
   ]
  },
  {
   "cell_type": "code",
   "execution_count": 27,
   "metadata": {
    "tags": [
     "remove_cell"
    ]
   },
   "outputs": [
    {
     "data": {
      "text/html": [
       "<div>\n",
       "<style scoped>\n",
       "    .dataframe tbody tr th:only-of-type {\n",
       "        vertical-align: middle;\n",
       "    }\n",
       "\n",
       "    .dataframe tbody tr th {\n",
       "        vertical-align: top;\n",
       "    }\n",
       "\n",
       "    .dataframe thead th {\n",
       "        text-align: right;\n",
       "    }\n",
       "</style>\n",
       "<table border=\"1\" class=\"dataframe\">\n",
       "  <thead>\n",
       "    <tr style=\"text-align: right;\">\n",
       "      <th></th>\n",
       "      <th>normalized_bp_proportion_aligned_Bacillus_subtilis</th>\n",
       "      <th>normalized_bp_proportion_aligned_Escherichia_coli</th>\n",
       "      <th>metagenomic_proportion_Bacillus_subtilis</th>\n",
       "      <th>metagenomic_proportion_Escherichia_coli</th>\n",
       "      <th>coproID_proba_Bacillus_subtilis</th>\n",
       "      <th>coproID_proba_Escherichia_coli</th>\n",
       "    </tr>\n",
       "  </thead>\n",
       "  <tbody>\n",
       "    <tr>\n",
       "      <th>metagenomebis</th>\n",
       "      <td>0.001471</td>\n",
       "      <td>0.998529</td>\n",
       "      <td>0.0</td>\n",
       "      <td>1.0</td>\n",
       "      <td>0.000000</td>\n",
       "      <td>0.998529</td>\n",
       "    </tr>\n",
       "    <tr>\n",
       "      <th>metagenome</th>\n",
       "      <td>0.994666</td>\n",
       "      <td>0.005334</td>\n",
       "      <td>1.0</td>\n",
       "      <td>0.0</td>\n",
       "      <td>0.994666</td>\n",
       "      <td>0.000000</td>\n",
       "    </tr>\n",
       "  </tbody>\n",
       "</table>\n",
       "</div>"
      ],
      "text/plain": [
       "               normalized_bp_proportion_aligned_Bacillus_subtilis  \\\n",
       "metagenomebis                                           0.001471    \n",
       "metagenome                                              0.994666    \n",
       "\n",
       "               normalized_bp_proportion_aligned_Escherichia_coli  \\\n",
       "metagenomebis                                           0.998529   \n",
       "metagenome                                              0.005334   \n",
       "\n",
       "               metagenomic_proportion_Bacillus_subtilis  \\\n",
       "metagenomebis                                       0.0   \n",
       "metagenome                                          1.0   \n",
       "\n",
       "               metagenomic_proportion_Escherichia_coli  \\\n",
       "metagenomebis                                      1.0   \n",
       "metagenome                                         0.0   \n",
       "\n",
       "               coproID_proba_Bacillus_subtilis  coproID_proba_Escherichia_coli  \n",
       "metagenomebis                         0.000000                        0.998529  \n",
       "metagenome                            0.994666                        0.000000  "
      ]
     },
     "execution_count": 27,
     "metadata": {},
     "output_type": "execute_result"
    }
   ],
   "source": [
    "d = \"coproID_result.csv\"\n",
    "pd.read_csv(d, index_col = 0)"
   ]
  },
  {
   "cell_type": "code",
   "execution_count": 26,
   "metadata": {
    "tags": [
     "remove_cell"
    ]
   },
   "outputs": [
    {
     "data": {
      "application/javascript": [
       "\n",
       "(function(root) {\n",
       "  function now() {\n",
       "    return new Date();\n",
       "  }\n",
       "\n",
       "  var force = true;\n",
       "\n",
       "  if (typeof (root._bokeh_onload_callbacks) === \"undefined\" || force === true) {\n",
       "    root._bokeh_onload_callbacks = [];\n",
       "    root._bokeh_is_loading = undefined;\n",
       "  }\n",
       "\n",
       "  var JS_MIME_TYPE = 'application/javascript';\n",
       "  var HTML_MIME_TYPE = 'text/html';\n",
       "  var EXEC_MIME_TYPE = 'application/vnd.bokehjs_exec.v0+json';\n",
       "  var CLASS_NAME = 'output_bokeh rendered_html';\n",
       "\n",
       "  /**\n",
       "   * Render data to the DOM node\n",
       "   */\n",
       "  function render(props, node) {\n",
       "    var script = document.createElement(\"script\");\n",
       "    node.appendChild(script);\n",
       "  }\n",
       "\n",
       "  /**\n",
       "   * Handle when an output is cleared or removed\n",
       "   */\n",
       "  function handleClearOutput(event, handle) {\n",
       "    var cell = handle.cell;\n",
       "\n",
       "    var id = cell.output_area._bokeh_element_id;\n",
       "    var server_id = cell.output_area._bokeh_server_id;\n",
       "    // Clean up Bokeh references\n",
       "    if (id != null && id in Bokeh.index) {\n",
       "      Bokeh.index[id].model.document.clear();\n",
       "      delete Bokeh.index[id];\n",
       "    }\n",
       "\n",
       "    if (server_id !== undefined) {\n",
       "      // Clean up Bokeh references\n",
       "      var cmd = \"from bokeh.io.state import curstate; print(curstate().uuid_to_server['\" + server_id + \"'].get_sessions()[0].document.roots[0]._id)\";\n",
       "      cell.notebook.kernel.execute(cmd, {\n",
       "        iopub: {\n",
       "          output: function(msg) {\n",
       "            var id = msg.content.text.trim();\n",
       "            if (id in Bokeh.index) {\n",
       "              Bokeh.index[id].model.document.clear();\n",
       "              delete Bokeh.index[id];\n",
       "            }\n",
       "          }\n",
       "        }\n",
       "      });\n",
       "      // Destroy server and session\n",
       "      var cmd = \"import bokeh.io.notebook as ion; ion.destroy_server('\" + server_id + \"')\";\n",
       "      cell.notebook.kernel.execute(cmd);\n",
       "    }\n",
       "  }\n",
       "\n",
       "  /**\n",
       "   * Handle when a new output is added\n",
       "   */\n",
       "  function handleAddOutput(event, handle) {\n",
       "    var output_area = handle.output_area;\n",
       "    var output = handle.output;\n",
       "\n",
       "    // limit handleAddOutput to display_data with EXEC_MIME_TYPE content only\n",
       "    if ((output.output_type != \"display_data\") || (!output.data.hasOwnProperty(EXEC_MIME_TYPE))) {\n",
       "      return\n",
       "    }\n",
       "\n",
       "    var toinsert = output_area.element.find(\".\" + CLASS_NAME.split(' ')[0]);\n",
       "\n",
       "    if (output.metadata[EXEC_MIME_TYPE][\"id\"] !== undefined) {\n",
       "      toinsert[toinsert.length - 1].firstChild.textContent = output.data[JS_MIME_TYPE];\n",
       "      // store reference to embed id on output_area\n",
       "      output_area._bokeh_element_id = output.metadata[EXEC_MIME_TYPE][\"id\"];\n",
       "    }\n",
       "    if (output.metadata[EXEC_MIME_TYPE][\"server_id\"] !== undefined) {\n",
       "      var bk_div = document.createElement(\"div\");\n",
       "      bk_div.innerHTML = output.data[HTML_MIME_TYPE];\n",
       "      var script_attrs = bk_div.children[0].attributes;\n",
       "      for (var i = 0; i < script_attrs.length; i++) {\n",
       "        toinsert[toinsert.length - 1].firstChild.setAttribute(script_attrs[i].name, script_attrs[i].value);\n",
       "      }\n",
       "      // store reference to server id on output_area\n",
       "      output_area._bokeh_server_id = output.metadata[EXEC_MIME_TYPE][\"server_id\"];\n",
       "    }\n",
       "  }\n",
       "\n",
       "  function register_renderer(events, OutputArea) {\n",
       "\n",
       "    function append_mime(data, metadata, element) {\n",
       "      // create a DOM node to render to\n",
       "      var toinsert = this.create_output_subarea(\n",
       "        metadata,\n",
       "        CLASS_NAME,\n",
       "        EXEC_MIME_TYPE\n",
       "      );\n",
       "      this.keyboard_manager.register_events(toinsert);\n",
       "      // Render to node\n",
       "      var props = {data: data, metadata: metadata[EXEC_MIME_TYPE]};\n",
       "      render(props, toinsert[toinsert.length - 1]);\n",
       "      element.append(toinsert);\n",
       "      return toinsert\n",
       "    }\n",
       "\n",
       "    /* Handle when an output is cleared or removed */\n",
       "    events.on('clear_output.CodeCell', handleClearOutput);\n",
       "    events.on('delete.Cell', handleClearOutput);\n",
       "\n",
       "    /* Handle when a new output is added */\n",
       "    events.on('output_added.OutputArea', handleAddOutput);\n",
       "\n",
       "    /**\n",
       "     * Register the mime type and append_mime function with output_area\n",
       "     */\n",
       "    OutputArea.prototype.register_mime_type(EXEC_MIME_TYPE, append_mime, {\n",
       "      /* Is output safe? */\n",
       "      safe: true,\n",
       "      /* Index of renderer in `output_area.display_order` */\n",
       "      index: 0\n",
       "    });\n",
       "  }\n",
       "\n",
       "  // register the mime type if in Jupyter Notebook environment and previously unregistered\n",
       "  if (root.Jupyter !== undefined) {\n",
       "    var events = require('base/js/events');\n",
       "    var OutputArea = require('notebook/js/outputarea').OutputArea;\n",
       "\n",
       "    if (OutputArea.prototype.mime_types().indexOf(EXEC_MIME_TYPE) == -1) {\n",
       "      register_renderer(events, OutputArea);\n",
       "    }\n",
       "  }\n",
       "\n",
       "  \n",
       "  if (typeof (root._bokeh_timeout) === \"undefined\" || force === true) {\n",
       "    root._bokeh_timeout = Date.now() + 5000;\n",
       "    root._bokeh_failed_load = false;\n",
       "  }\n",
       "\n",
       "  var NB_LOAD_WARNING = {'data': {'text/html':\n",
       "     \"<div style='background-color: #fdd'>\\n\"+\n",
       "     \"<p>\\n\"+\n",
       "     \"BokehJS does not appear to have successfully loaded. If loading BokehJS from CDN, this \\n\"+\n",
       "     \"may be due to a slow or bad network connection. Possible fixes:\\n\"+\n",
       "     \"</p>\\n\"+\n",
       "     \"<ul>\\n\"+\n",
       "     \"<li>re-rerun `output_notebook()` to attempt to load from CDN again, or</li>\\n\"+\n",
       "     \"<li>use INLINE resources instead, as so:</li>\\n\"+\n",
       "     \"</ul>\\n\"+\n",
       "     \"<code>\\n\"+\n",
       "     \"from bokeh.resources import INLINE\\n\"+\n",
       "     \"output_notebook(resources=INLINE)\\n\"+\n",
       "     \"</code>\\n\"+\n",
       "     \"</div>\"}};\n",
       "\n",
       "  function display_loaded() {\n",
       "    var el = document.getElementById(null);\n",
       "    if (el != null) {\n",
       "      el.textContent = \"BokehJS is loading...\";\n",
       "    }\n",
       "    if (root.Bokeh !== undefined) {\n",
       "      if (el != null) {\n",
       "        el.textContent = \"BokehJS \" + root.Bokeh.version + \" successfully loaded.\";\n",
       "      }\n",
       "    } else if (Date.now() < root._bokeh_timeout) {\n",
       "      setTimeout(display_loaded, 100)\n",
       "    }\n",
       "  }\n",
       "\n",
       "\n",
       "  function run_callbacks() {\n",
       "    try {\n",
       "      root._bokeh_onload_callbacks.forEach(function(callback) { callback() });\n",
       "    }\n",
       "    finally {\n",
       "      delete root._bokeh_onload_callbacks\n",
       "    }\n",
       "    console.info(\"Bokeh: all callbacks have finished\");\n",
       "  }\n",
       "\n",
       "  function load_libs(js_urls, callback) {\n",
       "    root._bokeh_onload_callbacks.push(callback);\n",
       "    if (root._bokeh_is_loading > 0) {\n",
       "      console.log(\"Bokeh: BokehJS is being loaded, scheduling callback at\", now());\n",
       "      return null;\n",
       "    }\n",
       "    if (js_urls == null || js_urls.length === 0) {\n",
       "      run_callbacks();\n",
       "      return null;\n",
       "    }\n",
       "    console.log(\"Bokeh: BokehJS not loaded, scheduling load and callback at\", now());\n",
       "    root._bokeh_is_loading = js_urls.length;\n",
       "    for (var i = 0; i < js_urls.length; i++) {\n",
       "      var url = js_urls[i];\n",
       "      var s = document.createElement('script');\n",
       "      s.src = url;\n",
       "      s.async = false;\n",
       "      s.onreadystatechange = s.onload = function() {\n",
       "        root._bokeh_is_loading--;\n",
       "        if (root._bokeh_is_loading === 0) {\n",
       "          console.log(\"Bokeh: all BokehJS libraries loaded\");\n",
       "          run_callbacks()\n",
       "        }\n",
       "      };\n",
       "      s.onerror = function() {\n",
       "        console.warn(\"failed to load library \" + url);\n",
       "      };\n",
       "      console.log(\"Bokeh: injecting script tag for BokehJS library: \", url);\n",
       "      document.getElementsByTagName(\"head\")[0].appendChild(s);\n",
       "    }\n",
       "  };\n",
       "\n",
       "  var js_urls = [\"https://cdn.pydata.org/bokeh/release/bokeh-1.0.4.min.js\", \"https://cdn.pydata.org/bokeh/release/bokeh-widgets-1.0.4.min.js\", \"https://cdn.pydata.org/bokeh/release/bokeh-tables-1.0.4.min.js\", \"https://cdn.pydata.org/bokeh/release/bokeh-gl-1.0.4.min.js\"];\n",
       "\n",
       "  var inline_js = [\n",
       "    function(Bokeh) {\n",
       "      Bokeh.set_log_level(\"info\");\n",
       "    },\n",
       "    \n",
       "    function(Bokeh) {\n",
       "      \n",
       "    },\n",
       "    function(Bokeh) {\n",
       "      console.log(\"Bokeh: injecting CSS: https://cdn.pydata.org/bokeh/release/bokeh-1.0.4.min.css\");\n",
       "      Bokeh.embed.inject_css(\"https://cdn.pydata.org/bokeh/release/bokeh-1.0.4.min.css\");\n",
       "      console.log(\"Bokeh: injecting CSS: https://cdn.pydata.org/bokeh/release/bokeh-widgets-1.0.4.min.css\");\n",
       "      Bokeh.embed.inject_css(\"https://cdn.pydata.org/bokeh/release/bokeh-widgets-1.0.4.min.css\");\n",
       "      console.log(\"Bokeh: injecting CSS: https://cdn.pydata.org/bokeh/release/bokeh-tables-1.0.4.min.css\");\n",
       "      Bokeh.embed.inject_css(\"https://cdn.pydata.org/bokeh/release/bokeh-tables-1.0.4.min.css\");\n",
       "    }\n",
       "  ];\n",
       "\n",
       "  function run_inline_js() {\n",
       "    \n",
       "    if ((root.Bokeh !== undefined) || (force === true)) {\n",
       "      for (var i = 0; i < inline_js.length; i++) {\n",
       "        inline_js[i].call(root, root.Bokeh);\n",
       "      }} else if (Date.now() < root._bokeh_timeout) {\n",
       "      setTimeout(run_inline_js, 100);\n",
       "    } else if (!root._bokeh_failed_load) {\n",
       "      console.log(\"Bokeh: BokehJS failed to load within specified timeout.\");\n",
       "      root._bokeh_failed_load = true;\n",
       "    } else if (force !== true) {\n",
       "      var cell = $(document.getElementById(null)).parents('.cell').data().cell;\n",
       "      cell.output_area.append_execute_result(NB_LOAD_WARNING)\n",
       "    }\n",
       "\n",
       "  }\n",
       "\n",
       "  if (root._bokeh_is_loading === 0) {\n",
       "    console.log(\"Bokeh: BokehJS loaded, going straight to plotting\");\n",
       "    run_inline_js();\n",
       "  } else {\n",
       "    load_libs(js_urls, function() {\n",
       "      console.log(\"Bokeh: BokehJS plotting callback run at\", now());\n",
       "      run_inline_js();\n",
       "    });\n",
       "  }\n",
       "}(window));"
      ],
      "application/vnd.bokehjs_load.v0+json": "\n(function(root) {\n  function now() {\n    return new Date();\n  }\n\n  var force = true;\n\n  if (typeof (root._bokeh_onload_callbacks) === \"undefined\" || force === true) {\n    root._bokeh_onload_callbacks = [];\n    root._bokeh_is_loading = undefined;\n  }\n\n  \n\n  \n  if (typeof (root._bokeh_timeout) === \"undefined\" || force === true) {\n    root._bokeh_timeout = Date.now() + 5000;\n    root._bokeh_failed_load = false;\n  }\n\n  var NB_LOAD_WARNING = {'data': {'text/html':\n     \"<div style='background-color: #fdd'>\\n\"+\n     \"<p>\\n\"+\n     \"BokehJS does not appear to have successfully loaded. If loading BokehJS from CDN, this \\n\"+\n     \"may be due to a slow or bad network connection. Possible fixes:\\n\"+\n     \"</p>\\n\"+\n     \"<ul>\\n\"+\n     \"<li>re-rerun `output_notebook()` to attempt to load from CDN again, or</li>\\n\"+\n     \"<li>use INLINE resources instead, as so:</li>\\n\"+\n     \"</ul>\\n\"+\n     \"<code>\\n\"+\n     \"from bokeh.resources import INLINE\\n\"+\n     \"output_notebook(resources=INLINE)\\n\"+\n     \"</code>\\n\"+\n     \"</div>\"}};\n\n  function display_loaded() {\n    var el = document.getElementById(null);\n    if (el != null) {\n      el.textContent = \"BokehJS is loading...\";\n    }\n    if (root.Bokeh !== undefined) {\n      if (el != null) {\n        el.textContent = \"BokehJS \" + root.Bokeh.version + \" successfully loaded.\";\n      }\n    } else if (Date.now() < root._bokeh_timeout) {\n      setTimeout(display_loaded, 100)\n    }\n  }\n\n\n  function run_callbacks() {\n    try {\n      root._bokeh_onload_callbacks.forEach(function(callback) { callback() });\n    }\n    finally {\n      delete root._bokeh_onload_callbacks\n    }\n    console.info(\"Bokeh: all callbacks have finished\");\n  }\n\n  function load_libs(js_urls, callback) {\n    root._bokeh_onload_callbacks.push(callback);\n    if (root._bokeh_is_loading > 0) {\n      console.log(\"Bokeh: BokehJS is being loaded, scheduling callback at\", now());\n      return null;\n    }\n    if (js_urls == null || js_urls.length === 0) {\n      run_callbacks();\n      return null;\n    }\n    console.log(\"Bokeh: BokehJS not loaded, scheduling load and callback at\", now());\n    root._bokeh_is_loading = js_urls.length;\n    for (var i = 0; i < js_urls.length; i++) {\n      var url = js_urls[i];\n      var s = document.createElement('script');\n      s.src = url;\n      s.async = false;\n      s.onreadystatechange = s.onload = function() {\n        root._bokeh_is_loading--;\n        if (root._bokeh_is_loading === 0) {\n          console.log(\"Bokeh: all BokehJS libraries loaded\");\n          run_callbacks()\n        }\n      };\n      s.onerror = function() {\n        console.warn(\"failed to load library \" + url);\n      };\n      console.log(\"Bokeh: injecting script tag for BokehJS library: \", url);\n      document.getElementsByTagName(\"head\")[0].appendChild(s);\n    }\n  };\n\n  var js_urls = [\"https://cdn.pydata.org/bokeh/release/bokeh-1.0.4.min.js\", \"https://cdn.pydata.org/bokeh/release/bokeh-widgets-1.0.4.min.js\", \"https://cdn.pydata.org/bokeh/release/bokeh-tables-1.0.4.min.js\", \"https://cdn.pydata.org/bokeh/release/bokeh-gl-1.0.4.min.js\"];\n\n  var inline_js = [\n    function(Bokeh) {\n      Bokeh.set_log_level(\"info\");\n    },\n    \n    function(Bokeh) {\n      \n    },\n    function(Bokeh) {\n      console.log(\"Bokeh: injecting CSS: https://cdn.pydata.org/bokeh/release/bokeh-1.0.4.min.css\");\n      Bokeh.embed.inject_css(\"https://cdn.pydata.org/bokeh/release/bokeh-1.0.4.min.css\");\n      console.log(\"Bokeh: injecting CSS: https://cdn.pydata.org/bokeh/release/bokeh-widgets-1.0.4.min.css\");\n      Bokeh.embed.inject_css(\"https://cdn.pydata.org/bokeh/release/bokeh-widgets-1.0.4.min.css\");\n      console.log(\"Bokeh: injecting CSS: https://cdn.pydata.org/bokeh/release/bokeh-tables-1.0.4.min.css\");\n      Bokeh.embed.inject_css(\"https://cdn.pydata.org/bokeh/release/bokeh-tables-1.0.4.min.css\");\n    }\n  ];\n\n  function run_inline_js() {\n    \n    if ((root.Bokeh !== undefined) || (force === true)) {\n      for (var i = 0; i < inline_js.length; i++) {\n        inline_js[i].call(root, root.Bokeh);\n      }} else if (Date.now() < root._bokeh_timeout) {\n      setTimeout(run_inline_js, 100);\n    } else if (!root._bokeh_failed_load) {\n      console.log(\"Bokeh: BokehJS failed to load within specified timeout.\");\n      root._bokeh_failed_load = true;\n    } else if (force !== true) {\n      var cell = $(document.getElementById(null)).parents('.cell').data().cell;\n      cell.output_area.append_execute_result(NB_LOAD_WARNING)\n    }\n\n  }\n\n  if (root._bokeh_is_loading === 0) {\n    console.log(\"Bokeh: BokehJS loaded, going straight to plotting\");\n    run_inline_js();\n  } else {\n    load_libs(js_urls, function() {\n      console.log(\"Bokeh: BokehJS plotting callback run at\", now());\n      run_inline_js();\n    });\n  }\n}(window));"
     },
     "metadata": {},
     "output_type": "display_data"
    },
    {
     "data": {
      "text/html": [
       "\n",
       "\n",
       "\n",
       "\n",
       "\n",
       "\n",
       "  <div class=\"bk-root\" id=\"7fb9af9c-ccbc-44b0-8c01-f668994d6721\" data-root-id=\"1914\"></div>\n"
      ]
     },
     "metadata": {},
     "output_type": "display_data"
    },
    {
     "data": {
      "application/javascript": [
       "(function(root) {\n",
       "  function embed_document(root) {\n",
       "    \n",
       "  var docs_json = {\"df4bfeae-98b1-4013-b928-11613e5bdbea\":{\"roots\":{\"references\":[{\"attributes\":{\"button_type\":\"success\",\"callback\":{\"id\":\"1915\",\"type\":\"CustomJS\"},\"icon\":null,\"label\":\"Download\"},\"id\":\"1914\",\"type\":\"Button\"},{\"attributes\":{\"callback\":null,\"data\":{\"coproID_proba_Bacillus_subtilis\":{\"__ndarray__\":\"AAAAAAAAAACIaWj0TNTvPw==\",\"dtype\":\"float64\",\"shape\":[2]},\"coproID_proba_Escherichia_coli\":{\"__ndarray__\":\"SCDgMvLz7z8AAAAAAAAAAA==\",\"dtype\":\"float64\",\"shape\":[2]},\"index\":[\"metagenomebis\",\"metagenome\"],\"metagenomic_proportion_Bacillus_subtilis\":{\"__ndarray__\":\"AAAAAAAAAAAAAAAAAADwPw==\",\"dtype\":\"float64\",\"shape\":[2]},\"metagenomic_proportion_Escherichia_coli\":{\"__ndarray__\":\"AAAAAAAA8D8AAAAAAAAAAA==\",\"dtype\":\"float64\",\"shape\":[2]},\"normalized_bp_proportion_aligned_Bacillus_subtilis\":{\"__ndarray__\":\"GHC/P5obWD+IaWj0TNTvPw==\",\"dtype\":\"float64\",\"shape\":[2]},\"normalized_bp_proportion_aligned_Escherichia_coli\":{\"__ndarray__\":\"SCDgMvLz7z8gPMvLhdl1Pw==\",\"dtype\":\"float64\",\"shape\":[2]}},\"selected\":{\"id\":\"1967\",\"type\":\"Selection\"},\"selection_policy\":{\"id\":\"1966\",\"type\":\"UnionRenderers\"}},\"id\":\"1904\",\"type\":\"ColumnDataSource\"},{\"attributes\":{},\"id\":\"1966\",\"type\":\"UnionRenderers\"},{\"attributes\":{},\"id\":\"1967\",\"type\":\"Selection\"},{\"attributes\":{\"args\":{\"source\":{\"id\":\"1904\",\"type\":\"ColumnDataSource\"}},\"code\":\"\\n        function table_to_csv(source) {\\n        const columns = Object.keys(source.data)\\n        const nrows = source.get_length()\\n        const lines = [columns.join(',')]\\n\\n        for (let i = 0; i < nrows; i++) {\\n            let row = [];\\n            for (let j = 0; j < columns.length; j++) {\\n                const column = columns[j]\\n                row.push(source.data[column][i].toString())\\n            }\\n            lines.push(row.join(','))\\n        }\\n        return lines.join('\\\\n').concat('\\\\n')\\n    }\\n\\n\\n    const filename = 'data_result.csv'\\n    filetext = table_to_csv(source)\\n    const blob = new Blob([filetext], { type: 'text/csv;charset=utf-8;' })\\n\\n    //addresses IE\\n    if (navigator.msSaveBlob) {\\n        navigator.msSaveBlob(blob, filename)\\n    } else {\\n        const link = document.createElement('a')\\n        link.href = URL.createObjectURL(blob)\\n        link.download = filename\\n        link.target = '_blank'\\n        link.style.visibility = 'hidden'\\n        link.dispatchEvent(new MouseEvent('click'))\\n    }\\n    \"},\"id\":\"1915\",\"type\":\"CustomJS\"}],\"root_ids\":[\"1914\"]},\"title\":\"Bokeh Application\",\"version\":\"1.0.4\"}};\n",
       "  var render_items = [{\"docid\":\"df4bfeae-98b1-4013-b928-11613e5bdbea\",\"roots\":{\"1914\":\"7fb9af9c-ccbc-44b0-8c01-f668994d6721\"}}];\n",
       "  root.Bokeh.embed.embed_items_notebook(docs_json, render_items);\n",
       "\n",
       "  }\n",
       "  if (root.Bokeh !== undefined) {\n",
       "    embed_document(root);\n",
       "  } else {\n",
       "    var attempts = 0;\n",
       "    var timer = setInterval(function(root) {\n",
       "      if (root.Bokeh !== undefined) {\n",
       "        embed_document(root);\n",
       "        clearInterval(timer);\n",
       "      }\n",
       "      attempts++;\n",
       "      if (attempts > 100) {\n",
       "        console.log(\"Bokeh: ERROR: Unable to run BokehJS code because BokehJS library is missing\");\n",
       "        clearInterval(timer);\n",
       "      }\n",
       "    }, 10, root)\n",
       "  }\n",
       "})(window);"
      ],
      "application/vnd.bokehjs_exec.v0+json": ""
     },
     "metadata": {
      "application/vnd.bokehjs_exec.v0+json": {
       "id": "1914"
      }
     },
     "output_type": "display_data"
    }
   ],
   "source": [
    "bokeh_table(d)"
   ]
  },
  {
   "cell_type": "markdown",
   "metadata": {},
   "source": [
    "## 2- microbiome profile embedding"
   ]
  },
  {
   "cell_type": "code",
   "execution_count": 12,
   "metadata": {
    "scrolled": true,
    "tags": [
     "remove_cell"
    ]
   },
   "outputs": [
    {
     "data": {
      "application/javascript": [
       "\n",
       "(function(root) {\n",
       "  function now() {\n",
       "    return new Date();\n",
       "  }\n",
       "\n",
       "  var force = true;\n",
       "\n",
       "  if (typeof (root._bokeh_onload_callbacks) === \"undefined\" || force === true) {\n",
       "    root._bokeh_onload_callbacks = [];\n",
       "    root._bokeh_is_loading = undefined;\n",
       "  }\n",
       "\n",
       "  var JS_MIME_TYPE = 'application/javascript';\n",
       "  var HTML_MIME_TYPE = 'text/html';\n",
       "  var EXEC_MIME_TYPE = 'application/vnd.bokehjs_exec.v0+json';\n",
       "  var CLASS_NAME = 'output_bokeh rendered_html';\n",
       "\n",
       "  /**\n",
       "   * Render data to the DOM node\n",
       "   */\n",
       "  function render(props, node) {\n",
       "    var script = document.createElement(\"script\");\n",
       "    node.appendChild(script);\n",
       "  }\n",
       "\n",
       "  /**\n",
       "   * Handle when an output is cleared or removed\n",
       "   */\n",
       "  function handleClearOutput(event, handle) {\n",
       "    var cell = handle.cell;\n",
       "\n",
       "    var id = cell.output_area._bokeh_element_id;\n",
       "    var server_id = cell.output_area._bokeh_server_id;\n",
       "    // Clean up Bokeh references\n",
       "    if (id != null && id in Bokeh.index) {\n",
       "      Bokeh.index[id].model.document.clear();\n",
       "      delete Bokeh.index[id];\n",
       "    }\n",
       "\n",
       "    if (server_id !== undefined) {\n",
       "      // Clean up Bokeh references\n",
       "      var cmd = \"from bokeh.io.state import curstate; print(curstate().uuid_to_server['\" + server_id + \"'].get_sessions()[0].document.roots[0]._id)\";\n",
       "      cell.notebook.kernel.execute(cmd, {\n",
       "        iopub: {\n",
       "          output: function(msg) {\n",
       "            var id = msg.content.text.trim();\n",
       "            if (id in Bokeh.index) {\n",
       "              Bokeh.index[id].model.document.clear();\n",
       "              delete Bokeh.index[id];\n",
       "            }\n",
       "          }\n",
       "        }\n",
       "      });\n",
       "      // Destroy server and session\n",
       "      var cmd = \"import bokeh.io.notebook as ion; ion.destroy_server('\" + server_id + \"')\";\n",
       "      cell.notebook.kernel.execute(cmd);\n",
       "    }\n",
       "  }\n",
       "\n",
       "  /**\n",
       "   * Handle when a new output is added\n",
       "   */\n",
       "  function handleAddOutput(event, handle) {\n",
       "    var output_area = handle.output_area;\n",
       "    var output = handle.output;\n",
       "\n",
       "    // limit handleAddOutput to display_data with EXEC_MIME_TYPE content only\n",
       "    if ((output.output_type != \"display_data\") || (!output.data.hasOwnProperty(EXEC_MIME_TYPE))) {\n",
       "      return\n",
       "    }\n",
       "\n",
       "    var toinsert = output_area.element.find(\".\" + CLASS_NAME.split(' ')[0]);\n",
       "\n",
       "    if (output.metadata[EXEC_MIME_TYPE][\"id\"] !== undefined) {\n",
       "      toinsert[toinsert.length - 1].firstChild.textContent = output.data[JS_MIME_TYPE];\n",
       "      // store reference to embed id on output_area\n",
       "      output_area._bokeh_element_id = output.metadata[EXEC_MIME_TYPE][\"id\"];\n",
       "    }\n",
       "    if (output.metadata[EXEC_MIME_TYPE][\"server_id\"] !== undefined) {\n",
       "      var bk_div = document.createElement(\"div\");\n",
       "      bk_div.innerHTML = output.data[HTML_MIME_TYPE];\n",
       "      var script_attrs = bk_div.children[0].attributes;\n",
       "      for (var i = 0; i < script_attrs.length; i++) {\n",
       "        toinsert[toinsert.length - 1].firstChild.setAttribute(script_attrs[i].name, script_attrs[i].value);\n",
       "      }\n",
       "      // store reference to server id on output_area\n",
       "      output_area._bokeh_server_id = output.metadata[EXEC_MIME_TYPE][\"server_id\"];\n",
       "    }\n",
       "  }\n",
       "\n",
       "  function register_renderer(events, OutputArea) {\n",
       "\n",
       "    function append_mime(data, metadata, element) {\n",
       "      // create a DOM node to render to\n",
       "      var toinsert = this.create_output_subarea(\n",
       "        metadata,\n",
       "        CLASS_NAME,\n",
       "        EXEC_MIME_TYPE\n",
       "      );\n",
       "      this.keyboard_manager.register_events(toinsert);\n",
       "      // Render to node\n",
       "      var props = {data: data, metadata: metadata[EXEC_MIME_TYPE]};\n",
       "      render(props, toinsert[toinsert.length - 1]);\n",
       "      element.append(toinsert);\n",
       "      return toinsert\n",
       "    }\n",
       "\n",
       "    /* Handle when an output is cleared or removed */\n",
       "    events.on('clear_output.CodeCell', handleClearOutput);\n",
       "    events.on('delete.Cell', handleClearOutput);\n",
       "\n",
       "    /* Handle when a new output is added */\n",
       "    events.on('output_added.OutputArea', handleAddOutput);\n",
       "\n",
       "    /**\n",
       "     * Register the mime type and append_mime function with output_area\n",
       "     */\n",
       "    OutputArea.prototype.register_mime_type(EXEC_MIME_TYPE, append_mime, {\n",
       "      /* Is output safe? */\n",
       "      safe: true,\n",
       "      /* Index of renderer in `output_area.display_order` */\n",
       "      index: 0\n",
       "    });\n",
       "  }\n",
       "\n",
       "  // register the mime type if in Jupyter Notebook environment and previously unregistered\n",
       "  if (root.Jupyter !== undefined) {\n",
       "    var events = require('base/js/events');\n",
       "    var OutputArea = require('notebook/js/outputarea').OutputArea;\n",
       "\n",
       "    if (OutputArea.prototype.mime_types().indexOf(EXEC_MIME_TYPE) == -1) {\n",
       "      register_renderer(events, OutputArea);\n",
       "    }\n",
       "  }\n",
       "\n",
       "  \n",
       "  if (typeof (root._bokeh_timeout) === \"undefined\" || force === true) {\n",
       "    root._bokeh_timeout = Date.now() + 5000;\n",
       "    root._bokeh_failed_load = false;\n",
       "  }\n",
       "\n",
       "  var NB_LOAD_WARNING = {'data': {'text/html':\n",
       "     \"<div style='background-color: #fdd'>\\n\"+\n",
       "     \"<p>\\n\"+\n",
       "     \"BokehJS does not appear to have successfully loaded. If loading BokehJS from CDN, this \\n\"+\n",
       "     \"may be due to a slow or bad network connection. Possible fixes:\\n\"+\n",
       "     \"</p>\\n\"+\n",
       "     \"<ul>\\n\"+\n",
       "     \"<li>re-rerun `output_notebook()` to attempt to load from CDN again, or</li>\\n\"+\n",
       "     \"<li>use INLINE resources instead, as so:</li>\\n\"+\n",
       "     \"</ul>\\n\"+\n",
       "     \"<code>\\n\"+\n",
       "     \"from bokeh.resources import INLINE\\n\"+\n",
       "     \"output_notebook(resources=INLINE)\\n\"+\n",
       "     \"</code>\\n\"+\n",
       "     \"</div>\"}};\n",
       "\n",
       "  function display_loaded() {\n",
       "    var el = document.getElementById(null);\n",
       "    if (el != null) {\n",
       "      el.textContent = \"BokehJS is loading...\";\n",
       "    }\n",
       "    if (root.Bokeh !== undefined) {\n",
       "      if (el != null) {\n",
       "        el.textContent = \"BokehJS \" + root.Bokeh.version + \" successfully loaded.\";\n",
       "      }\n",
       "    } else if (Date.now() < root._bokeh_timeout) {\n",
       "      setTimeout(display_loaded, 100)\n",
       "    }\n",
       "  }\n",
       "\n",
       "\n",
       "  function run_callbacks() {\n",
       "    try {\n",
       "      root._bokeh_onload_callbacks.forEach(function(callback) { callback() });\n",
       "    }\n",
       "    finally {\n",
       "      delete root._bokeh_onload_callbacks\n",
       "    }\n",
       "    console.info(\"Bokeh: all callbacks have finished\");\n",
       "  }\n",
       "\n",
       "  function load_libs(js_urls, callback) {\n",
       "    root._bokeh_onload_callbacks.push(callback);\n",
       "    if (root._bokeh_is_loading > 0) {\n",
       "      console.log(\"Bokeh: BokehJS is being loaded, scheduling callback at\", now());\n",
       "      return null;\n",
       "    }\n",
       "    if (js_urls == null || js_urls.length === 0) {\n",
       "      run_callbacks();\n",
       "      return null;\n",
       "    }\n",
       "    console.log(\"Bokeh: BokehJS not loaded, scheduling load and callback at\", now());\n",
       "    root._bokeh_is_loading = js_urls.length;\n",
       "    for (var i = 0; i < js_urls.length; i++) {\n",
       "      var url = js_urls[i];\n",
       "      var s = document.createElement('script');\n",
       "      s.src = url;\n",
       "      s.async = false;\n",
       "      s.onreadystatechange = s.onload = function() {\n",
       "        root._bokeh_is_loading--;\n",
       "        if (root._bokeh_is_loading === 0) {\n",
       "          console.log(\"Bokeh: all BokehJS libraries loaded\");\n",
       "          run_callbacks()\n",
       "        }\n",
       "      };\n",
       "      s.onerror = function() {\n",
       "        console.warn(\"failed to load library \" + url);\n",
       "      };\n",
       "      console.log(\"Bokeh: injecting script tag for BokehJS library: \", url);\n",
       "      document.getElementsByTagName(\"head\")[0].appendChild(s);\n",
       "    }\n",
       "  };\n",
       "\n",
       "  var js_urls = [\"https://cdn.pydata.org/bokeh/release/bokeh-1.0.4.min.js\", \"https://cdn.pydata.org/bokeh/release/bokeh-widgets-1.0.4.min.js\", \"https://cdn.pydata.org/bokeh/release/bokeh-tables-1.0.4.min.js\", \"https://cdn.pydata.org/bokeh/release/bokeh-gl-1.0.4.min.js\"];\n",
       "\n",
       "  var inline_js = [\n",
       "    function(Bokeh) {\n",
       "      Bokeh.set_log_level(\"info\");\n",
       "    },\n",
       "    \n",
       "    function(Bokeh) {\n",
       "      \n",
       "    },\n",
       "    function(Bokeh) {\n",
       "      console.log(\"Bokeh: injecting CSS: https://cdn.pydata.org/bokeh/release/bokeh-1.0.4.min.css\");\n",
       "      Bokeh.embed.inject_css(\"https://cdn.pydata.org/bokeh/release/bokeh-1.0.4.min.css\");\n",
       "      console.log(\"Bokeh: injecting CSS: https://cdn.pydata.org/bokeh/release/bokeh-widgets-1.0.4.min.css\");\n",
       "      Bokeh.embed.inject_css(\"https://cdn.pydata.org/bokeh/release/bokeh-widgets-1.0.4.min.css\");\n",
       "      console.log(\"Bokeh: injecting CSS: https://cdn.pydata.org/bokeh/release/bokeh-tables-1.0.4.min.css\");\n",
       "      Bokeh.embed.inject_css(\"https://cdn.pydata.org/bokeh/release/bokeh-tables-1.0.4.min.css\");\n",
       "    }\n",
       "  ];\n",
       "\n",
       "  function run_inline_js() {\n",
       "    \n",
       "    if ((root.Bokeh !== undefined) || (force === true)) {\n",
       "      for (var i = 0; i < inline_js.length; i++) {\n",
       "        inline_js[i].call(root, root.Bokeh);\n",
       "      }} else if (Date.now() < root._bokeh_timeout) {\n",
       "      setTimeout(run_inline_js, 100);\n",
       "    } else if (!root._bokeh_failed_load) {\n",
       "      console.log(\"Bokeh: BokehJS failed to load within specified timeout.\");\n",
       "      root._bokeh_failed_load = true;\n",
       "    } else if (force !== true) {\n",
       "      var cell = $(document.getElementById(null)).parents('.cell').data().cell;\n",
       "      cell.output_area.append_execute_result(NB_LOAD_WARNING)\n",
       "    }\n",
       "\n",
       "  }\n",
       "\n",
       "  if (root._bokeh_is_loading === 0) {\n",
       "    console.log(\"Bokeh: BokehJS loaded, going straight to plotting\");\n",
       "    run_inline_js();\n",
       "  } else {\n",
       "    load_libs(js_urls, function() {\n",
       "      console.log(\"Bokeh: BokehJS plotting callback run at\", now());\n",
       "      run_inline_js();\n",
       "    });\n",
       "  }\n",
       "}(window));"
      ],
      "application/vnd.bokehjs_load.v0+json": "\n(function(root) {\n  function now() {\n    return new Date();\n  }\n\n  var force = true;\n\n  if (typeof (root._bokeh_onload_callbacks) === \"undefined\" || force === true) {\n    root._bokeh_onload_callbacks = [];\n    root._bokeh_is_loading = undefined;\n  }\n\n  \n\n  \n  if (typeof (root._bokeh_timeout) === \"undefined\" || force === true) {\n    root._bokeh_timeout = Date.now() + 5000;\n    root._bokeh_failed_load = false;\n  }\n\n  var NB_LOAD_WARNING = {'data': {'text/html':\n     \"<div style='background-color: #fdd'>\\n\"+\n     \"<p>\\n\"+\n     \"BokehJS does not appear to have successfully loaded. If loading BokehJS from CDN, this \\n\"+\n     \"may be due to a slow or bad network connection. Possible fixes:\\n\"+\n     \"</p>\\n\"+\n     \"<ul>\\n\"+\n     \"<li>re-rerun `output_notebook()` to attempt to load from CDN again, or</li>\\n\"+\n     \"<li>use INLINE resources instead, as so:</li>\\n\"+\n     \"</ul>\\n\"+\n     \"<code>\\n\"+\n     \"from bokeh.resources import INLINE\\n\"+\n     \"output_notebook(resources=INLINE)\\n\"+\n     \"</code>\\n\"+\n     \"</div>\"}};\n\n  function display_loaded() {\n    var el = document.getElementById(null);\n    if (el != null) {\n      el.textContent = \"BokehJS is loading...\";\n    }\n    if (root.Bokeh !== undefined) {\n      if (el != null) {\n        el.textContent = \"BokehJS \" + root.Bokeh.version + \" successfully loaded.\";\n      }\n    } else if (Date.now() < root._bokeh_timeout) {\n      setTimeout(display_loaded, 100)\n    }\n  }\n\n\n  function run_callbacks() {\n    try {\n      root._bokeh_onload_callbacks.forEach(function(callback) { callback() });\n    }\n    finally {\n      delete root._bokeh_onload_callbacks\n    }\n    console.info(\"Bokeh: all callbacks have finished\");\n  }\n\n  function load_libs(js_urls, callback) {\n    root._bokeh_onload_callbacks.push(callback);\n    if (root._bokeh_is_loading > 0) {\n      console.log(\"Bokeh: BokehJS is being loaded, scheduling callback at\", now());\n      return null;\n    }\n    if (js_urls == null || js_urls.length === 0) {\n      run_callbacks();\n      return null;\n    }\n    console.log(\"Bokeh: BokehJS not loaded, scheduling load and callback at\", now());\n    root._bokeh_is_loading = js_urls.length;\n    for (var i = 0; i < js_urls.length; i++) {\n      var url = js_urls[i];\n      var s = document.createElement('script');\n      s.src = url;\n      s.async = false;\n      s.onreadystatechange = s.onload = function() {\n        root._bokeh_is_loading--;\n        if (root._bokeh_is_loading === 0) {\n          console.log(\"Bokeh: all BokehJS libraries loaded\");\n          run_callbacks()\n        }\n      };\n      s.onerror = function() {\n        console.warn(\"failed to load library \" + url);\n      };\n      console.log(\"Bokeh: injecting script tag for BokehJS library: \", url);\n      document.getElementsByTagName(\"head\")[0].appendChild(s);\n    }\n  };\n\n  var js_urls = [\"https://cdn.pydata.org/bokeh/release/bokeh-1.0.4.min.js\", \"https://cdn.pydata.org/bokeh/release/bokeh-widgets-1.0.4.min.js\", \"https://cdn.pydata.org/bokeh/release/bokeh-tables-1.0.4.min.js\", \"https://cdn.pydata.org/bokeh/release/bokeh-gl-1.0.4.min.js\"];\n\n  var inline_js = [\n    function(Bokeh) {\n      Bokeh.set_log_level(\"info\");\n    },\n    \n    function(Bokeh) {\n      \n    },\n    function(Bokeh) {\n      console.log(\"Bokeh: injecting CSS: https://cdn.pydata.org/bokeh/release/bokeh-1.0.4.min.css\");\n      Bokeh.embed.inject_css(\"https://cdn.pydata.org/bokeh/release/bokeh-1.0.4.min.css\");\n      console.log(\"Bokeh: injecting CSS: https://cdn.pydata.org/bokeh/release/bokeh-widgets-1.0.4.min.css\");\n      Bokeh.embed.inject_css(\"https://cdn.pydata.org/bokeh/release/bokeh-widgets-1.0.4.min.css\");\n      console.log(\"Bokeh: injecting CSS: https://cdn.pydata.org/bokeh/release/bokeh-tables-1.0.4.min.css\");\n      Bokeh.embed.inject_css(\"https://cdn.pydata.org/bokeh/release/bokeh-tables-1.0.4.min.css\");\n    }\n  ];\n\n  function run_inline_js() {\n    \n    if ((root.Bokeh !== undefined) || (force === true)) {\n      for (var i = 0; i < inline_js.length; i++) {\n        inline_js[i].call(root, root.Bokeh);\n      }} else if (Date.now() < root._bokeh_timeout) {\n      setTimeout(run_inline_js, 100);\n    } else if (!root._bokeh_failed_load) {\n      console.log(\"Bokeh: BokehJS failed to load within specified timeout.\");\n      root._bokeh_failed_load = true;\n    } else if (force !== true) {\n      var cell = $(document.getElementById(null)).parents('.cell').data().cell;\n      cell.output_area.append_execute_result(NB_LOAD_WARNING)\n    }\n\n  }\n\n  if (root._bokeh_is_loading === 0) {\n    console.log(\"Bokeh: BokehJS loaded, going straight to plotting\");\n    run_inline_js();\n  } else {\n    load_libs(js_urls, function() {\n      console.log(\"Bokeh: BokehJS plotting callback run at\", now());\n      run_inline_js();\n    });\n  }\n}(window));"
     },
     "metadata": {},
     "output_type": "display_data"
    },
    {
     "data": {
      "text/html": [
       "\n",
       "\n",
       "\n",
       "\n",
       "\n",
       "\n",
       "  <div class=\"bk-root\" id=\"6ce2d817-e249-4ffb-8dbf-f56ec6633ffa\" data-root-id=\"1252\"></div>\n"
      ]
     },
     "metadata": {},
     "output_type": "display_data"
    },
    {
     "data": {
      "application/javascript": [
       "(function(root) {\n",
       "  function embed_document(root) {\n",
       "    \n",
       "  var docs_json = {\"22121a6c-e5f0-49a0-9575-7fd52eb785ac\":{\"roots\":{\"references\":[{\"attributes\":{\"below\":[{\"id\":\"1261\",\"type\":\"LinearAxis\"}],\"left\":[{\"id\":\"1266\",\"type\":\"LinearAxis\"}],\"renderers\":[{\"id\":\"1261\",\"type\":\"LinearAxis\"},{\"id\":\"1265\",\"type\":\"Grid\"},{\"id\":\"1266\",\"type\":\"LinearAxis\"},{\"id\":\"1270\",\"type\":\"Grid\"},{\"id\":\"1282\",\"type\":\"BoxAnnotation\"},{\"id\":\"1292\",\"type\":\"GlyphRenderer\"}],\"title\":{\"id\":\"1321\",\"type\":\"Title\"},\"toolbar\":{\"id\":\"1278\",\"type\":\"Toolbar\"},\"x_range\":{\"id\":\"1253\",\"type\":\"DataRange1d\"},\"x_scale\":{\"id\":\"1257\",\"type\":\"LinearScale\"},\"y_range\":{\"id\":\"1255\",\"type\":\"DataRange1d\"},\"y_scale\":{\"id\":\"1259\",\"type\":\"LinearScale\"}},\"id\":\"1252\",\"subtype\":\"Figure\",\"type\":\"Plot\"},{\"attributes\":{},\"id\":\"1272\",\"type\":\"WheelZoomTool\"},{\"attributes\":{},\"id\":\"1324\",\"type\":\"BasicTickFormatter\"},{\"attributes\":{},\"id\":\"1273\",\"type\":\"ZoomInTool\"},{\"attributes\":{},\"id\":\"1326\",\"type\":\"BasicTickFormatter\"},{\"attributes\":{},\"id\":\"1274\",\"type\":\"ZoomOutTool\"},{\"attributes\":{},\"id\":\"1327\",\"type\":\"UnionRenderers\"},{\"attributes\":{\"overlay\":{\"id\":\"1282\",\"type\":\"BoxAnnotation\"}},\"id\":\"1275\",\"type\":\"BoxZoomTool\"},{\"attributes\":{},\"id\":\"1328\",\"type\":\"Selection\"},{\"attributes\":{\"callback\":null},\"id\":\"1253\",\"type\":\"DataRange1d\"},{\"attributes\":{},\"id\":\"1276\",\"type\":\"ResetTool\"},{\"attributes\":{\"data_source\":{\"id\":\"1288\",\"type\":\"ColumnDataSource\"},\"glyph\":{\"id\":\"1290\",\"type\":\"Scatter\"},\"hover_glyph\":null,\"muted_glyph\":null,\"nonselection_glyph\":{\"id\":\"1291\",\"type\":\"Scatter\"},\"selection_glyph\":null,\"view\":{\"id\":\"1293\",\"type\":\"CDSView\"}},\"id\":\"1292\",\"type\":\"GlyphRenderer\"},{\"attributes\":{},\"id\":\"1277\",\"type\":\"SaveTool\"},{\"attributes\":{\"callback\":null},\"id\":\"1255\",\"type\":\"DataRange1d\"},{\"attributes\":{},\"id\":\"1257\",\"type\":\"LinearScale\"},{\"attributes\":{\"bottom_units\":\"screen\",\"fill_alpha\":{\"value\":0.5},\"fill_color\":{\"value\":\"lightgrey\"},\"left_units\":\"screen\",\"level\":\"overlay\",\"line_alpha\":{\"value\":1.0},\"line_color\":{\"value\":\"black\"},\"line_dash\":[4,4],\"line_width\":{\"value\":2},\"plot\":null,\"render_mode\":\"css\",\"right_units\":\"screen\",\"top_units\":\"screen\"},\"id\":\"1282\",\"type\":\"BoxAnnotation\"},{\"attributes\":{},\"id\":\"1259\",\"type\":\"LinearScale\"},{\"attributes\":{\"formatter\":{\"id\":\"1324\",\"type\":\"BasicTickFormatter\"},\"plot\":{\"id\":\"1252\",\"subtype\":\"Figure\",\"type\":\"Plot\"},\"ticker\":{\"id\":\"1262\",\"type\":\"BasicTicker\"}},\"id\":\"1261\",\"type\":\"LinearAxis\"},{\"attributes\":{\"factors\":[\"Bacillus_subtilis\",\"Escherichia_coli\",\"sink\"],\"palette\":[\"#e41a1c\",\"#377eb8\",\"#4daf4a\",\"#984ea3\",\"#ff7f00\",\"#ffff33\",\"#a65628\",\"#f781bf\",\"#999999\"]},\"id\":\"1251\",\"type\":\"CategoricalColorMapper\"},{\"attributes\":{},\"id\":\"1262\",\"type\":\"BasicTicker\"},{\"attributes\":{\"fill_alpha\":{\"value\":0.1},\"fill_color\":{\"value\":\"#1f77b4\"},\"line_alpha\":{\"value\":0.1},\"line_color\":{\"value\":\"#1f77b4\"},\"size\":{\"units\":\"screen\",\"value\":6},\"x\":{\"field\":\"PC1\"},\"y\":{\"field\":\"PC2\"}},\"id\":\"1291\",\"type\":\"Scatter\"},{\"attributes\":{\"plot\":{\"id\":\"1252\",\"subtype\":\"Figure\",\"type\":\"Plot\"},\"ticker\":{\"id\":\"1262\",\"type\":\"BasicTicker\"}},\"id\":\"1265\",\"type\":\"Grid\"},{\"attributes\":{\"fill_alpha\":{\"value\":0.6},\"fill_color\":{\"field\":\"label\",\"transform\":{\"id\":\"1251\",\"type\":\"CategoricalColorMapper\"}},\"line_alpha\":{\"value\":0.6},\"line_color\":{\"field\":\"label\",\"transform\":{\"id\":\"1251\",\"type\":\"CategoricalColorMapper\"}},\"size\":{\"units\":\"screen\",\"value\":6},\"x\":{\"field\":\"PC1\"},\"y\":{\"field\":\"PC2\"}},\"id\":\"1290\",\"type\":\"Scatter\"},{\"attributes\":{\"formatter\":{\"id\":\"1326\",\"type\":\"BasicTickFormatter\"},\"plot\":{\"id\":\"1252\",\"subtype\":\"Figure\",\"type\":\"Plot\"},\"ticker\":{\"id\":\"1267\",\"type\":\"BasicTicker\"}},\"id\":\"1266\",\"type\":\"LinearAxis\"},{\"attributes\":{},\"id\":\"1267\",\"type\":\"BasicTicker\"},{\"attributes\":{\"source\":{\"id\":\"1288\",\"type\":\"ColumnDataSource\"}},\"id\":\"1293\",\"type\":\"CDSView\"},{\"attributes\":{\"dimension\":1,\"plot\":{\"id\":\"1252\",\"subtype\":\"Figure\",\"type\":\"Plot\"},\"ticker\":{\"id\":\"1267\",\"type\":\"BasicTicker\"}},\"id\":\"1270\",\"type\":\"Grid\"},{\"attributes\":{\"callback\":null,\"tooltips\":[[\"Organism\",\"@label\"],[\"Sample\",\"@name\"]]},\"id\":\"1294\",\"type\":\"HoverTool\"},{\"attributes\":{\"callback\":null,\"data\":{\"PC1\":{\"__ndarray__\":\"LNhGPNn1K0Bz2H3H8GgoQHoxlBPtYipAsaiI00l2KEDFWKZfIt4qQF3mdFlM5CpAKXef46MtKkBmtiv0weIqQBk+IqZEUilAIZOMnIX9KkCw/zo3bVYrQIoI/yJo3CtAug1qv7XXK0B55XrbTD0sQIVBmUaTCylAInAk0GDrK0DwaU5eZHIqQP7TDRR4zylAIoleRrFUKUBClgUTf1wpQN/8hokGKShAMlNaf0tUKUAwgPChRMMrQE7S/DGtpSpA6lp7n6omKUDKPPIHAz8qQInQCDauxyhAqP5BJEM+KkBmwFlKlpsrQD5YxoZuTilA56c4DryaKEDEIRtIF1MrQGO3zyozFStAcTyfAfV+KUCMtb+zPdoqQCdlUkMbOCtAnNzvUBS4KkBCmNu93P8pQM4wtaUOMilA5BOy8zb+KEAc0qjAySoqQM2wUdZvNitAfpHQlnPJKUDDtdrDXgAqQFN1j2yuGilAehowSPq0KkB7avXVVYEpQC7ovTEECCpAIv32deAsKkC1Vx8PfV8qQJZbWg2JyypAo61KIvu4KkBnfcoxWdwpQJshVRSvSipAUTdQ4J0cK0B0XmOXqBYqQNF14Qfn2ypAFeC7zRtXKUA98gcDz90pQBA66BIODSpAYygn2lWYMcA6I0p7g5cxwDIjvD0I7THAxsGlY87DMcB0mgXaHVozwIDTu3g/qjLAGjIepRK6McDnps04DcEywEIKnkKuFDLAfqmfNxWhMsCJtI0/UU0zwPuqXKj8EzLAksmpnWGyM8CEmbZ/ZZEzwA7BcRk3+TLAZRwj2SP0McDMDYY6rEwzwNlhTPp7aTPA7dXHQ99RMsDGavP/qqMywKq3BrZKODLALGLYYUySMsB7oBUYsh4ywIfe4uE9NzLAgEV+/RDrMsDnGJC93hEzwPPlBdhHYzLA2/rpP2t6M8DOqWQAqCIzwGRbBpyl8DLAQs9m1eeSMsBvfy4aMsYywEg17PfEgjLAoS+9/bnoMsC3lzRG60AzwIiE7/0NYjLAt9YXCW0JM8B24QfnU88ywHGOOjquzjLAwLLSpBRYMsA3NGWnH2wywEEsmzkk5THAJXfYRGa2MsAHYAMixDEywG1UpwNZKzPAGsBbIEHJMsATKc3mcWAywKorn+V5JDLAkWPrGcJ9MsCP/MHAc/MywCqqfqXzdTPAXVFKCFYhM8Chv9AjRvMywDp0et6NlTLAPWTKh6DKMsBzwK4mT+0xwFt5yf/kpzLALedSXFVeMsCuEiwOZ3YywP5IERlWATPA+YkD6PdVM8A=\",\"dtype\":\"float64\",\"shape\":[121]},\"PC2\":{\"__ndarray__\":\"fQtGgC7dFcDopb0c0ZgTwKeFgZ1RmRXAXJTZIJM8FsCKUXwhiXsRwEmfVtEf6hbAWJHRAUm4F8BdqPxreaUVwPHz34PXXhXAMSk+PiEjGMBMxca8jrASwMVH1cCghhHAzaSXYliPE8AE54wo7c0TwKZklMIXKRHAhXmPM02IFcDi6CrdXfcSwLvvGB77MRLAYcQ+ART7E8CmmIOgow0XwJjV4CKcYxTA8M6Q4PzMEMBSvTWwVWIVwI4+5gMCrRDAkc8rnnp0F8BW0cTgBkkYwFkuG53z4xLAcZOsHouQEMB6rkp9tNsWwHU/pyA/ExLARPEZP0N+FMB2T8Nc96MTwFHDt7BuDBPAYw0XuaeLFcBHXjF+dagWwE7rNqj95hHAkyBcAYX6FMBNTYI3pKERwNCMj2D0lhPALlbUYBpmFcD49H3djj0SwDbPEfkuxRbABJFFmni3FsDcIEn/gcgWwPTv6aABmxXA+EDhoknYEsBBei9jr/QUwN4crtUedhPA5llJK76xFcCo9o6/WQcTwASIJ2DgthPAb6Lxn8lxFMBobb8h+bcUwFu0AG2rmRPA+XMbHgzGFMD3PrA+eZsUwBESDmIMKRTA23f7YqUYE8Cm0HmNXeIUwNcIs7+i0RPAaR8r+G1YHcB00ZDxKF0gwH9PrFPlaxvAfzfdskOsHcA+syRATQkhwEOs/gjDeCHAkvR6QVU2H8AmjdE6qoIgwD1KJTyhDyDA47d8f96nGsAvGFxzR38gwPhSeNDs4iDAToXT3dDXHcC/8bVnljwgwKYLsfojbCDA8FcBvtucHMAf+BisOGUdwPTZph2jiR3AeNSYEHMZHcAzeKkiJrIbwCCfkJ23wRzA3xrYKsF6IMAkgQabOt8ewCe+2lGcEyHAbfXmgdmeG8BEuTR+4Q0ewH0fDhKi/BzAV8tC4O1uH8AS86ykFTcgwLtgcM0dDR/AEwE9w4r5HcD752nAIHEfwGqEfqZeDyDAeQCL/PoxIcA4lJD+Td4ewJauBWJ+ix/AEmxc/65/HcDG4GHaNzcewMHlsWZkgB/Ay9zX3CyxHcAOq9PcZdIewMRBQpQvKCDAtAQZARUuHcDvBPuvc2MewGyhdZ7CCx3AseB+wANLHcDBGmfTEbAgwL9GkiBcISDA51Hxf0dkHsAboZ+p17UgwHJuE+6VqR7AmuTsQhhsHMDRuvw9Z8EbwHND+LyHuB7ANGjon+CSIMB2OLpKdxcewMdkcf+RDSDAQTnAguqlG8AReuwdJGocwJmHTPkQRB/Au3+H/fnpH8A=\",\"dtype\":\"float64\",\"shape\":[121]},\"index\":[\"sample1\",\"sample2\",\"sample3\",\"sample4\",\"sample5\",\"sample6\",\"sample7\",\"sample8\",\"sample9\",\"sample10\",\"sample11\",\"sample12\",\"sample13\",\"sample14\",\"sample15\",\"sample16\",\"sample17\",\"sample18\",\"sample19\",\"sample20\",\"sample21\",\"sample22\",\"sample23\",\"sample24\",\"sample25\",\"sample26\",\"sample27\",\"sample28\",\"sample29\",\"sample30\",\"sample31\",\"sample32\",\"sample33\",\"sample34\",\"sample35\",\"sample36\",\"sample37\",\"sample38\",\"sample39\",\"sample40\",\"sample41\",\"sample42\",\"sample43\",\"sample44\",\"sample45\",\"sample46\",\"sample47\",\"sample48\",\"sample49\",\"sample50\",\"sample51\",\"sample52\",\"sample53\",\"sample54\",\"sample55\",\"sample56\",\"sample57\",\"sample58\",\"sample59\",\"sample60\",\"sample61\",\"sample62\",\"sample63\",\"sample64\",\"sample65\",\"sample66\",\"sample67\",\"sample68\",\"sample69\",\"sample70\",\"sample71\",\"sample72\",\"sample73\",\"sample74\",\"sample75\",\"sample76\",\"sample77\",\"sample78\",\"sample79\",\"sample80\",\"sample81\",\"sample82\",\"sample83\",\"sample84\",\"sample85\",\"sample86\",\"sample87\",\"sample88\",\"sample89\",\"sample90\",\"sample91\",\"sample92\",\"sample93\",\"sample94\",\"sample95\",\"sample96\",\"sample97\",\"sample98\",\"sample99\",\"sample100\",\"sample101\",\"sample102\",\"sample103\",\"sample104\",\"sample105\",\"sample106\",\"sample107\",\"sample108\",\"sample109\",\"sample110\",\"sample111\",\"sample112\",\"sample113\",\"sample114\",\"sample115\",\"sample116\",\"sample117\",\"sample118\",\"sample119\",\"sample120\",\"metagenome\"],\"label\":[\"Escherichia_coli\",\"Escherichia_coli\",\"Escherichia_coli\",\"Escherichia_coli\",\"Escherichia_coli\",\"Escherichia_coli\",\"Escherichia_coli\",\"Escherichia_coli\",\"Escherichia_coli\",\"Escherichia_coli\",\"Escherichia_coli\",\"Escherichia_coli\",\"Escherichia_coli\",\"Escherichia_coli\",\"Escherichia_coli\",\"Escherichia_coli\",\"Escherichia_coli\",\"Escherichia_coli\",\"Escherichia_coli\",\"Escherichia_coli\",\"Escherichia_coli\",\"Escherichia_coli\",\"Escherichia_coli\",\"Escherichia_coli\",\"Escherichia_coli\",\"Escherichia_coli\",\"Escherichia_coli\",\"Escherichia_coli\",\"Escherichia_coli\",\"Escherichia_coli\",\"Escherichia_coli\",\"Escherichia_coli\",\"Escherichia_coli\",\"Escherichia_coli\",\"Escherichia_coli\",\"Escherichia_coli\",\"Escherichia_coli\",\"Escherichia_coli\",\"Escherichia_coli\",\"Escherichia_coli\",\"Escherichia_coli\",\"Escherichia_coli\",\"Escherichia_coli\",\"Escherichia_coli\",\"Escherichia_coli\",\"Escherichia_coli\",\"Escherichia_coli\",\"Escherichia_coli\",\"Escherichia_coli\",\"Escherichia_coli\",\"Escherichia_coli\",\"Escherichia_coli\",\"Escherichia_coli\",\"Escherichia_coli\",\"Escherichia_coli\",\"Escherichia_coli\",\"Escherichia_coli\",\"Escherichia_coli\",\"Escherichia_coli\",\"Escherichia_coli\",\"Bacillus_subtilis\",\"Bacillus_subtilis\",\"Bacillus_subtilis\",\"Bacillus_subtilis\",\"Bacillus_subtilis\",\"Bacillus_subtilis\",\"Bacillus_subtilis\",\"Bacillus_subtilis\",\"Bacillus_subtilis\",\"Bacillus_subtilis\",\"Bacillus_subtilis\",\"Bacillus_subtilis\",\"Bacillus_subtilis\",\"Bacillus_subtilis\",\"Bacillus_subtilis\",\"Bacillus_subtilis\",\"Bacillus_subtilis\",\"Bacillus_subtilis\",\"Bacillus_subtilis\",\"Bacillus_subtilis\",\"Bacillus_subtilis\",\"Bacillus_subtilis\",\"Bacillus_subtilis\",\"Bacillus_subtilis\",\"Bacillus_subtilis\",\"Bacillus_subtilis\",\"Bacillus_subtilis\",\"Bacillus_subtilis\",\"Bacillus_subtilis\",\"Bacillus_subtilis\",\"Bacillus_subtilis\",\"Bacillus_subtilis\",\"Bacillus_subtilis\",\"Bacillus_subtilis\",\"Bacillus_subtilis\",\"Bacillus_subtilis\",\"Bacillus_subtilis\",\"Bacillus_subtilis\",\"Bacillus_subtilis\",\"Bacillus_subtilis\",\"Bacillus_subtilis\",\"Bacillus_subtilis\",\"Bacillus_subtilis\",\"Bacillus_subtilis\",\"Bacillus_subtilis\",\"Bacillus_subtilis\",\"Bacillus_subtilis\",\"Bacillus_subtilis\",\"Bacillus_subtilis\",\"Bacillus_subtilis\",\"Bacillus_subtilis\",\"Bacillus_subtilis\",\"Bacillus_subtilis\",\"Bacillus_subtilis\",\"Bacillus_subtilis\",\"Bacillus_subtilis\",\"Bacillus_subtilis\",\"Bacillus_subtilis\",\"Bacillus_subtilis\",\"Bacillus_subtilis\",\"sink\"],\"name\":[\"sample1\",\"sample2\",\"sample3\",\"sample4\",\"sample5\",\"sample6\",\"sample7\",\"sample8\",\"sample9\",\"sample10\",\"sample11\",\"sample12\",\"sample13\",\"sample14\",\"sample15\",\"sample16\",\"sample17\",\"sample18\",\"sample19\",\"sample20\",\"sample21\",\"sample22\",\"sample23\",\"sample24\",\"sample25\",\"sample26\",\"sample27\",\"sample28\",\"sample29\",\"sample30\",\"sample31\",\"sample32\",\"sample33\",\"sample34\",\"sample35\",\"sample36\",\"sample37\",\"sample38\",\"sample39\",\"sample40\",\"sample41\",\"sample42\",\"sample43\",\"sample44\",\"sample45\",\"sample46\",\"sample47\",\"sample48\",\"sample49\",\"sample50\",\"sample51\",\"sample52\",\"sample53\",\"sample54\",\"sample55\",\"sample56\",\"sample57\",\"sample58\",\"sample59\",\"sample60\",\"sample61\",\"sample62\",\"sample63\",\"sample64\",\"sample65\",\"sample66\",\"sample67\",\"sample68\",\"sample69\",\"sample70\",\"sample71\",\"sample72\",\"sample73\",\"sample74\",\"sample75\",\"sample76\",\"sample77\",\"sample78\",\"sample79\",\"sample80\",\"sample81\",\"sample82\",\"sample83\",\"sample84\",\"sample85\",\"sample86\",\"sample87\",\"sample88\",\"sample89\",\"sample90\",\"sample91\",\"sample92\",\"sample93\",\"sample94\",\"sample95\",\"sample96\",\"sample97\",\"sample98\",\"sample99\",\"sample100\",\"sample101\",\"sample102\",\"sample103\",\"sample104\",\"sample105\",\"sample106\",\"sample107\",\"sample108\",\"sample109\",\"sample110\",\"sample111\",\"sample112\",\"sample113\",\"sample114\",\"sample115\",\"sample116\",\"sample117\",\"sample118\",\"sample119\",\"sample120\",\"metagenome\"]},\"selected\":{\"id\":\"1328\",\"type\":\"Selection\"},\"selection_policy\":{\"id\":\"1327\",\"type\":\"UnionRenderers\"}},\"id\":\"1288\",\"type\":\"ColumnDataSource\"},{\"attributes\":{\"plot\":null,\"text\":\"\"},\"id\":\"1321\",\"type\":\"Title\"},{\"attributes\":{\"active_drag\":\"auto\",\"active_inspect\":\"auto\",\"active_multi\":null,\"active_scroll\":\"auto\",\"active_tap\":\"auto\",\"tools\":[{\"id\":\"1271\",\"type\":\"PanTool\"},{\"id\":\"1272\",\"type\":\"WheelZoomTool\"},{\"id\":\"1273\",\"type\":\"ZoomInTool\"},{\"id\":\"1274\",\"type\":\"ZoomOutTool\"},{\"id\":\"1275\",\"type\":\"BoxZoomTool\"},{\"id\":\"1276\",\"type\":\"ResetTool\"},{\"id\":\"1277\",\"type\":\"SaveTool\"},{\"id\":\"1294\",\"type\":\"HoverTool\"}]},\"id\":\"1278\",\"type\":\"Toolbar\"},{\"attributes\":{},\"id\":\"1271\",\"type\":\"PanTool\"}],\"root_ids\":[\"1252\"]},\"title\":\"Bokeh Application\",\"version\":\"1.0.4\"}};\n",
       "  var render_items = [{\"docid\":\"22121a6c-e5f0-49a0-9575-7fd52eb785ac\",\"roots\":{\"1252\":\"6ce2d817-e249-4ffb-8dbf-f56ec6633ffa\"}}];\n",
       "  root.Bokeh.embed.embed_items_notebook(docs_json, render_items);\n",
       "\n",
       "  }\n",
       "  if (root.Bokeh !== undefined) {\n",
       "    embed_document(root);\n",
       "  } else {\n",
       "    var attempts = 0;\n",
       "    var timer = setInterval(function(root) {\n",
       "      if (root.Bokeh !== undefined) {\n",
       "        embed_document(root);\n",
       "        clearInterval(timer);\n",
       "      }\n",
       "      attempts++;\n",
       "      if (attempts > 100) {\n",
       "        console.log(\"Bokeh: ERROR: Unable to run BokehJS code because BokehJS library is missing\");\n",
       "        clearInterval(timer);\n",
       "      }\n",
       "    }, 10, root)\n",
       "  }\n",
       "})(window);"
      ],
      "application/vnd.bokehjs_exec.v0+json": ""
     },
     "metadata": {
      "application/vnd.bokehjs_exec.v0+json": {
       "id": "1252"
      }
     },
     "output_type": "display_data"
    }
   ],
   "source": [
    "plot_bokeh(umap)"
   ]
  },
  {
   "cell_type": "markdown",
   "metadata": {},
   "source": [
    "## 3- Damage plots"
   ]
  },
  {
   "cell_type": "code",
   "execution_count": 52,
   "metadata": {
    "tags": [
     "remove_cell"
    ]
   },
   "outputs": [],
   "source": [
    "\n",
    "allplots = os.listdir(\".\")\n",
    "allplots = [i for i in allplots if \"_freq.txt\" in i]\n",
    "fwd_ext = \".5pCtoT_freq.txt\"\n",
    "rev_ext = \".3pGtoA_freq.txt\"\n",
    "samples = list(set([i.split(\"_\")[0] for i in allplots]))\n",
    "species = list(set([\"_\".join(i.split(\".\")[0].split(\"_\")[1:]) for i in allplots]))"
   ]
  },
  {
   "cell_type": "code",
   "execution_count": 57,
   "metadata": {
    "tags": [
     "remove_cell"
    ]
   },
   "outputs": [],
   "source": [
    "def plot_damage(fwd, rev, sample, organism):\n",
    "    f = pd.read_csv(fwd, skiprows=3, delimiter=\"\\t\")\n",
    "    r =  pd.read_csv(rev, skiprows=3, delimiter=\"\\t\")\n",
    "    r['pos'] = list(r['pos']*-1)[::-1]\n",
    "    fig = plt.figure(figsize=(18,3))\n",
    "    fig.suptitle(f\"Sample: {sample} - Species: {organism}\", fontsize=\"x-large\", y = 1.2)\n",
    "    plt.title('Test')\n",
    "    plt.subplot(1, 2, 1)\n",
    "    plt.plot(f['pos'],f['5pC>T'])\n",
    "    plt.title('5pC>T')\n",
    "    plt.ylabel('Frequency')\n",
    "    plt.xticks(f['pos'])\n",
    "\n",
    "    plt.subplot(1, 2, 2)\n",
    "    plt.plot(r['pos'][::-1],r['3pG>A'], color = 'red')\n",
    "    plt.title('3pG>A')\n",
    "    plt.ylabel('Frequency')\n",
    "    plt.xticks(r['pos'])"
   ]
  },
  {
   "cell_type": "code",
   "execution_count": 58,
   "metadata": {
    "tags": [
     "remove_cell"
    ]
   },
   "outputs": [
    {
     "name": "stdout",
     "output_type": "stream",
     "text": [
      "Sample: metagenome\n",
      "Sample: metagenomebis\n"
     ]
    },
    {
     "data": {
      "image/png": "[encoded data removed]",
      "text/plain": [
       "<Figure size 1296x216 with 2 Axes>"
      ]
     },
     "metadata": {
      "needs_background": "light"
     },
     "output_type": "display_data"
    },
    {
     "data": {
      "image/png": "[encoded data removed]",
      "text/plain": [
       "<Figure size 1296x216 with 2 Axes>"
      ]
     },
     "metadata": {
      "needs_background": "light"
     },
     "output_type": "display_data"
    },
    {
     "data": {
      "image/png": "[encoded data removed]",
      "text/plain": [
       "<Figure size 1296x216 with 2 Axes>"
      ]
     },
     "metadata": {
      "needs_background": "light"
     },
     "output_type": "display_data"
    },
    {
     "data": {
      "image/png": "[encoded data removed]",
      "text/plain": [
       "<Figure size 1296x216 with 2 Axes>"
      ]
     },
     "metadata": {
      "needs_background": "light"
     },
     "output_type": "display_data"
    }
   ],
   "source": [
    "for sa in samples:\n",
    "    for sp in species:\n",
    "        plot_damage(f\"{sa}_{sp}{fwd_ext}\", f\"{sa}_{sp}{rev_ext}\", sa, sp)"
   ]
  }
 ],
 "metadata": {
  "celltoolbar": "Tags",
  "kernelspec": {
   "display_name": "Python 3",
   "language": "python",
   "name": "python3"
  },
  "language_info": {
   "codemirror_mode": {
    "name": "ipython",
    "version": 3
   },
   "file_extension": ".py",
   "mimetype": "text/x-python",
   "name": "python",
   "nbconvert_exporter": "python",
   "pygments_lexer": "ipython3",
   "version": "3.6.8"
  }
 },
 "nbformat": 4,
 "nbformat_minor": 2
}
